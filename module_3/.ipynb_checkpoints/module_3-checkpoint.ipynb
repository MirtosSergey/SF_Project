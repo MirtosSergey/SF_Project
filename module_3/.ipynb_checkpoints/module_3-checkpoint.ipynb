{
 "cells": [
  {
   "cell_type": "markdown",
   "metadata": {},
   "source": [
    "#### <span style='color:Red'> *Промежуточные и итоговые выводы обозначаются таким шрифтом.* </span>"
   ]
  },
  {
   "cell_type": "code",
   "execution_count": 1,
   "metadata": {},
   "outputs": [],
   "source": [
    "#Подключение библиотек\n",
    "\n",
    "#Для работы с данными\n",
    "import numpy as np\n",
    "import pandas as pd\n",
    "\n",
    "#Для визуализации\n",
    "import matplotlib.pyplot as plt\n",
    "import seaborn as sns\n",
    "\n",
    "#Для машинного обучения\n",
    "from sklearn.model_selection import train_test_split\n",
    "from sklearn.ensemble import RandomForestRegressor\n",
    "from sklearn import metrics\n",
    "\n",
    "#Прочее\n",
    "from collections import Counter\n",
    "from datetime import datetime\n",
    "import time\n",
    "\n",
    "#Графики в оформлении seaborn\n",
    "sns.set()"
   ]
  },
  {
   "cell_type": "code",
   "execution_count": 2,
   "metadata": {},
   "outputs": [],
   "source": [
    "#Промежуточные функции\n",
    "\n",
    "def get_BoxPlot(x,y,df):\n",
    "    '''\n",
    "    Вывод графиков Box-Plot для параметра Y по группам X.\n",
    "    Вход:\n",
    "    * x - название столбца в DataFrame, по которому группируются данные;\n",
    "    * y - название столбца в DataFrame, по которому строятся Box-Plot;\n",
    "    * df - DataFrame.\n",
    "    Выход:\n",
    "    * None.\n",
    "    '''\n",
    "    #Место для Box-Plot и его настройки\n",
    "    fig, ax = plt.subplots(figsize = (14, 4))\n",
    "    #Box-Plot\n",
    "    sns.boxplot(x=x, y=y, data=df, ax=ax, showmeans=True)\n",
    "    #Разворот подписи по оси X\n",
    "    plt.xticks(rotation=90)\n",
    "    #Описание над графиком\n",
    "    ax.set_title('Boxplot for ' + x)\n",
    "    #Обновление графика\n",
    "    plt.show()\n",
    "    pass\n",
    "\n",
    "def get_Hist(x,df):\n",
    "    #Место для Box-Plot и его настройки\n",
    "    fig, ax = plt.subplots(figsize = (14, 4))\n",
    "    #Hist-Plot\n",
    "    sns.distplot(df[x])\n",
    "    #Обновление графика\n",
    "    plt.show()\n",
    "    pass\n",
    "\n",
    "def get_date_reviews(x):\n",
    "    '''\n",
    "    Перевод str в формат datetime (для столбца Reviews)\n",
    "    Вход:\n",
    "    * x - строка str.\n",
    "    Выход:\n",
    "    * Список из двух дат.\n",
    "    '''\n",
    "    #Определение индекса в строке\n",
    "    ind = x.find('], [')\n",
    "    #Срез\n",
    "    x = x[ind+4:-2]\n",
    "    #Удаление кавычек и создание списка\n",
    "    mas_date_str = x.replace(\"'\", '').split(', ')\n",
    "    #Проверка пустой или нет список\n",
    "    if len(mas_date_str) == 2:\n",
    "        #Перевод в формат datetime\n",
    "        mas_date = [datetime.strptime(d, '%m/%d/%Y') for d in mas_date_str]\n",
    "    else:\n",
    "        #Возвращение пустого значения\n",
    "        mas_date = np.nan\n",
    "    return mas_date\n",
    "\n",
    "def get_isna(x, Y, df):\n",
    "    '''\n",
    "    Определение количество пропусков по группам.\n",
    "    Вход:\n",
    "    * x - название столбца в DataFrame, по которому группируются данные;\n",
    "    * Y - название столбцов в DataFrame, по которому считаются пропуски;\n",
    "    * df - DataFrame.\n",
    "    Выход:\n",
    "    * None.\n",
    "    '''\n",
    "    for y in Y:\n",
    "        print(pd.DataFrame(df.groupby(y)[x].agg([lambda x: sum(x.isna()), 'mean', 'median'])).rename(columns={'<lambda_0>': 'number na'}))\n",
    "    pass\n",
    "\n",
    "def drop_out(x,df):\n",
    "    '''\n",
    "    Удаление строк, содержащих выбросы в столбце X количественных параметров.\n",
    "    Вход:\n",
    "    * x - название столбца в DataFrame, по которому удаляются выбросы;\n",
    "    * df - DataFrame.\n",
    "    Выход:\n",
    "    * df - DataFrame;\n",
    "    * Количество выбросов.\n",
    "    '''\n",
    "    #Исходная длина DataFrame\n",
    "    len_init = len(df)\n",
    "    #Первый квартиль\n",
    "    perc25 = df[x].quantile(0.25)\n",
    "    #Третий квартиль\n",
    "    perc75 = df[x].quantile(0.75)\n",
    "    #Межквартильный размах\n",
    "    IQR = perc75 - perc25\n",
    "    #Удаление выбросов\n",
    "    df = df.loc[df[x].between(perc25 - 1.5 * IQR, perc75 + 1.5 * IQR)]\n",
    "    #Конечная длина DataFrame\n",
    "    len_end = len(df)\n",
    "    #Вывод разности длин DataFrame\n",
    "    print('Количество выбросов для параметра {}: {}.'.format(x, len_init-len_end))\n",
    "    return df, len_init-len_end"
   ]
  },
  {
   "cell_type": "markdown",
   "metadata": {},
   "source": [
    "# 1. Загрузка и осмотр данных"
   ]
  },
  {
   "cell_type": "code",
   "execution_count": 3,
   "metadata": {},
   "outputs": [],
   "source": [
    "#Загрузка данных\n",
    "df = pd.read_csv('main_task.csv')\n",
    "#Копирование для конечного сравнения\n",
    "df_init = df.copy()"
   ]
  },
  {
   "cell_type": "code",
   "execution_count": 4,
   "metadata": {},
   "outputs": [
    {
     "name": "stdout",
     "output_type": "stream",
     "text": [
      "<class 'pandas.core.frame.DataFrame'>\n",
      "RangeIndex: 40000 entries, 0 to 39999\n",
      "Data columns (total 10 columns):\n",
      " #   Column             Non-Null Count  Dtype  \n",
      "---  ------             --------------  -----  \n",
      " 0   Restaurant_id      40000 non-null  object \n",
      " 1   City               40000 non-null  object \n",
      " 2   Cuisine Style      30717 non-null  object \n",
      " 3   Ranking            40000 non-null  float64\n",
      " 4   Rating             40000 non-null  float64\n",
      " 5   Price Range        26114 non-null  object \n",
      " 6   Number of Reviews  37457 non-null  float64\n",
      " 7   Reviews            40000 non-null  object \n",
      " 8   URL_TA             40000 non-null  object \n",
      " 9   ID_TA              40000 non-null  object \n",
      "dtypes: float64(3), object(7)\n",
      "memory usage: 3.1+ MB\n"
     ]
    }
   ],
   "source": [
    "#Информация по столбцам\n",
    "df.info()"
   ]
  },
  {
   "cell_type": "markdown",
   "metadata": {},
   "source": [
    "#### <span style='color:Red'> *Есть столбцы как с номинативными, так и с количественными параметрами. Также есть пропущенные значения. Выведем общее их количество.* </span>"
   ]
  },
  {
   "cell_type": "code",
   "execution_count": 5,
   "metadata": {},
   "outputs": [
    {
     "data": {
      "text/plain": [
       "Restaurant_id            0\n",
       "City                     0\n",
       "Cuisine Style         9283\n",
       "Ranking                  0\n",
       "Rating                   0\n",
       "Price Range          13886\n",
       "Number of Reviews     2543\n",
       "Reviews                  0\n",
       "URL_TA                   0\n",
       "ID_TA                    0\n",
       "dtype: int64"
      ]
     },
     "execution_count": 5,
     "metadata": {},
     "output_type": "execute_result"
    }
   ],
   "source": [
    "#Количество пропущенных значений в каждом столбце\n",
    "df.isnull().sum()"
   ]
  },
  {
   "cell_type": "markdown",
   "metadata": {},
   "source": [
    "#### <span style='color:Red'> *Всего три столбца содержат пропущенные значения.* </span>"
   ]
  },
  {
   "cell_type": "markdown",
   "metadata": {},
   "source": [
    "# 2. Предварительная обработка данных"
   ]
  },
  {
   "cell_type": "markdown",
   "metadata": {},
   "source": [
    "#### <span style='color:Red'> *Сразу удалим столбцы, содержащие уникальные значения для каждого ресторана - его ID (Restaurant_id и ID_TA) и ссылки (URL_TA).* </span>"
   ]
  },
  {
   "cell_type": "code",
   "execution_count": 6,
   "metadata": {},
   "outputs": [],
   "source": [
    "#Удаляем столбцы\n",
    "df.drop(['Restaurant_id','URL_TA','ID_TA'],axis=1,inplace=True)"
   ]
  },
  {
   "cell_type": "markdown",
   "metadata": {},
   "source": [
    "#### <span style='color:Red'> *Столбец Cuisine Style содержит список в виде str, переведем его в вид list.* </span>"
   ]
  },
  {
   "cell_type": "code",
   "execution_count": 7,
   "metadata": {},
   "outputs": [],
   "source": [
    "#Создание list вместо str \n",
    "df['Cuisine'] = df['Cuisine Style'].apply(lambda x: x[1:-1].replace(' ','').replace(\"'\",'').split(',') if type(x) == str else np.nan)\n",
    "#Удаление старого признака\n",
    "df.drop(['Cuisine Style'],axis=1,inplace=True)"
   ]
  },
  {
   "cell_type": "code",
   "execution_count": 8,
   "metadata": {},
   "outputs": [],
   "source": [
    "#Создание нового признака - количество кухонь в ресторане\n",
    "df['N Cuisine'] = df['Cuisine'].apply(lambda x: len(x) if type(x) == list else np.nan)"
   ]
  },
  {
   "cell_type": "markdown",
   "metadata": {},
   "source": [
    "#### <span style='color:Red'> *Столбец Price Range содержит информацию о среднем чеке в ресторане. Данная переменная является категориальной. Заменим ее.* </span>"
   ]
  },
  {
   "cell_type": "code",
   "execution_count": 9,
   "metadata": {},
   "outputs": [],
   "source": [
    "#Замена категориального признака на новый - уровень цены (чем выше значение, тем выше цена)\n",
    "df['Price'] = df['Price Range'].replace({'$': 1,'$$ - $$$': 2.5, '$$$$': 4})\n",
    "#Удаление старого признака\n",
    "df.drop(['Price Range'],axis=1,inplace=True)"
   ]
  },
  {
   "cell_type": "markdown",
   "metadata": {},
   "source": [
    "#### <span style='color:Red'> *Столбец Reviews содержит информацию о датах двух отзывов в виде str. Извлечем их и переведем в формат datetime.* </span>"
   ]
  },
  {
   "cell_type": "code",
   "execution_count": 10,
   "metadata": {},
   "outputs": [],
   "source": [
    "#Создаем новый признак: список из двух дат (datetime)\n",
    "df['Date Reviews'] = df['Reviews'].apply(get_date_reviews)"
   ]
  },
  {
   "cell_type": "markdown",
   "metadata": {},
   "source": [
    "#### <span style='color:Red'> *Столбец Reviews также содержит текст данных отзывов, но пока нету возможности извлечь их содержимое по ключевым словам и узнать комплиментарный данный отзыв или наоборот.* </span>"
   ]
  },
  {
   "cell_type": "code",
   "execution_count": 11,
   "metadata": {},
   "outputs": [],
   "source": [
    "#Удаление старого признака\n",
    "df.drop(['Reviews'],axis=1,inplace=True)"
   ]
  },
  {
   "cell_type": "code",
   "execution_count": 12,
   "metadata": {},
   "outputs": [],
   "source": [
    "#Раскрываем список в виде двух отдельных признаков\n",
    "df['First Date Review'] = df['Date Reviews'].apply(lambda x: x[0] if type(x) == list else x)\n",
    "df['Second Date Review'] = df['Date Reviews'].apply(lambda x: x[1] if type(x) == list else x)\n",
    "#Удаление старого признака\n",
    "df.drop(['Date Reviews'],axis=1,inplace=True)"
   ]
  },
  {
   "cell_type": "markdown",
   "metadata": {},
   "source": [
    "#### <span style='color:Red'> *Для удобства переименуем столбцы.* </span>"
   ]
  },
  {
   "cell_type": "code",
   "execution_count": 13,
   "metadata": {},
   "outputs": [],
   "source": [
    "#Переименование столбцов\n",
    "df = df.rename(columns={'Number of Reviews': 'N Review'})"
   ]
  },
  {
   "cell_type": "markdown",
   "metadata": {},
   "source": [
    "#### <span style='color:Red'> *Снова проверим количество пропущенных значений по столбцам.* </span>"
   ]
  },
  {
   "cell_type": "code",
   "execution_count": 14,
   "metadata": {},
   "outputs": [
    {
     "data": {
      "text/plain": [
       "City                      0\n",
       "Ranking                   0\n",
       "Rating                    0\n",
       "N Review               2543\n",
       "Cuisine                9283\n",
       "N Cuisine              9283\n",
       "Price                 13886\n",
       "First Date Review     11027\n",
       "Second Date Review    11027\n",
       "dtype: int64"
      ]
     },
     "execution_count": 14,
     "metadata": {},
     "output_type": "execute_result"
    }
   ],
   "source": [
    "#Количество пропущенных значений в каждом столбце\n",
    "df.isnull().sum()"
   ]
  },
  {
   "cell_type": "markdown",
   "metadata": {},
   "source": [
    "# 3. Создание новых и обработка старых признаков"
   ]
  },
  {
   "cell_type": "markdown",
   "metadata": {},
   "source": [
    "## а) Признак Cuisine"
   ]
  },
  {
   "cell_type": "markdown",
   "metadata": {},
   "source": [
    "#### <span style='color:Red'> *Для обработки списка кухонь рассмотрим все их возможные уникальные значения.* </span>"
   ]
  },
  {
   "cell_type": "code",
   "execution_count": 15,
   "metadata": {
    "scrolled": true
   },
   "outputs": [
    {
     "data": {
      "text/html": [
       "<div>\n",
       "<style scoped>\n",
       "    .dataframe tbody tr th:only-of-type {\n",
       "        vertical-align: middle;\n",
       "    }\n",
       "\n",
       "    .dataframe tbody tr th {\n",
       "        vertical-align: top;\n",
       "    }\n",
       "\n",
       "    .dataframe thead th {\n",
       "        text-align: right;\n",
       "    }\n",
       "</style>\n",
       "<table border=\"1\" class=\"dataframe\">\n",
       "  <thead>\n",
       "    <tr style=\"text-align: right;\">\n",
       "      <th></th>\n",
       "      <th>Number</th>\n",
       "    </tr>\n",
       "    <tr>\n",
       "      <th>Name</th>\n",
       "      <th></th>\n",
       "    </tr>\n",
       "  </thead>\n",
       "  <tbody>\n",
       "    <tr>\n",
       "      <th>VegetarianFriendly</th>\n",
       "      <td>11189</td>\n",
       "    </tr>\n",
       "    <tr>\n",
       "      <th>European</th>\n",
       "      <td>10060</td>\n",
       "    </tr>\n",
       "    <tr>\n",
       "      <th>Mediterranean</th>\n",
       "      <td>6277</td>\n",
       "    </tr>\n",
       "    <tr>\n",
       "      <th>Italian</th>\n",
       "      <td>5964</td>\n",
       "    </tr>\n",
       "    <tr>\n",
       "      <th>VeganOptions</th>\n",
       "      <td>4486</td>\n",
       "    </tr>\n",
       "    <tr>\n",
       "      <th>GlutenFreeOptions</th>\n",
       "      <td>4113</td>\n",
       "    </tr>\n",
       "    <tr>\n",
       "      <th>Bar</th>\n",
       "      <td>3297</td>\n",
       "    </tr>\n",
       "    <tr>\n",
       "      <th>French</th>\n",
       "      <td>3190</td>\n",
       "    </tr>\n",
       "    <tr>\n",
       "      <th>Asian</th>\n",
       "      <td>3011</td>\n",
       "    </tr>\n",
       "    <tr>\n",
       "      <th>Pizza</th>\n",
       "      <td>2849</td>\n",
       "    </tr>\n",
       "    <tr>\n",
       "      <th>Spanish</th>\n",
       "      <td>2798</td>\n",
       "    </tr>\n",
       "    <tr>\n",
       "      <th>Pub</th>\n",
       "      <td>2449</td>\n",
       "    </tr>\n",
       "    <tr>\n",
       "      <th>Cafe</th>\n",
       "      <td>2325</td>\n",
       "    </tr>\n",
       "    <tr>\n",
       "      <th>FastFood</th>\n",
       "      <td>1705</td>\n",
       "    </tr>\n",
       "    <tr>\n",
       "      <th>British</th>\n",
       "      <td>1595</td>\n",
       "    </tr>\n",
       "    <tr>\n",
       "      <th>International</th>\n",
       "      <td>1584</td>\n",
       "    </tr>\n",
       "    <tr>\n",
       "      <th>Seafood</th>\n",
       "      <td>1505</td>\n",
       "    </tr>\n",
       "    <tr>\n",
       "      <th>Japanese</th>\n",
       "      <td>1464</td>\n",
       "    </tr>\n",
       "    <tr>\n",
       "      <th>CentralEuropean</th>\n",
       "      <td>1393</td>\n",
       "    </tr>\n",
       "    <tr>\n",
       "      <th>American</th>\n",
       "      <td>1315</td>\n",
       "    </tr>\n",
       "  </tbody>\n",
       "</table>\n",
       "</div>"
      ],
      "text/plain": [
       "                    Number\n",
       "Name                      \n",
       "VegetarianFriendly   11189\n",
       "European             10060\n",
       "Mediterranean         6277\n",
       "Italian               5964\n",
       "VeganOptions          4486\n",
       "GlutenFreeOptions     4113\n",
       "Bar                   3297\n",
       "French                3190\n",
       "Asian                 3011\n",
       "Pizza                 2849\n",
       "Spanish               2798\n",
       "Pub                   2449\n",
       "Cafe                  2325\n",
       "FastFood              1705\n",
       "British               1595\n",
       "International         1584\n",
       "Seafood               1505\n",
       "Japanese              1464\n",
       "CentralEuropean       1393\n",
       "American              1315"
      ]
     },
     "execution_count": 15,
     "metadata": {},
     "output_type": "execute_result"
    }
   ],
   "source": [
    "#Создаем Counter для получения распределения ресторанов по кухням\n",
    "Mas_Cuisine = Counter()\n",
    "#Промежуточная функция для заполнения Counter\n",
    "def get_Cuisine(X):\n",
    "    if type(X) == list:\n",
    "        for x in X:\n",
    "            Mas_Cuisine[x] += 1\n",
    "    pass\n",
    "#Заполнение Counter\n",
    "df['Cuisine'].apply(get_Cuisine)\n",
    "#Создание DataFrame из Counter\n",
    "df_Cuisine = pd.DataFrame(list(Mas_Cuisine.most_common()),columns=['Name','Number']).set_index('Name')\n",
    "df_Cuisine.head(20)"
   ]
  },
  {
   "cell_type": "markdown",
   "metadata": {},
   "source": [
    "#### <span style='color:Red'> *Кухонь слишком много, поэтому сгруппируем их в новые категории. Для этого выведем список всех кухонь и создадим словарь с новыми именами групп и значениями старых, куда они входят.* </span>"
   ]
  },
  {
   "cell_type": "code",
   "execution_count": 16,
   "metadata": {},
   "outputs": [],
   "source": [
    "#Новые группы кухонь\n",
    "dict_Cuisine = {\n",
    "    'Vegan': ['VeganOptions','VegetarianFriendly'],\n",
    "    'GlutenFree': ['GlutenFreeOptions','Healthy'],\n",
    "    'Bar': ['Bar','WineBar','Cafe','Pub','Gastropub','BrewPub'],\n",
    "    'FastFood': ['FastFood','StreetFood'],\n",
    "    'International': ['Fusion','International','Contemporary'],\n",
    "    'Asian': ['Asian', 'Chinese', 'MiddleEastern','Thai','Indian','Vietnamese','Korean','Pakistani',\n",
    "              'Nepali','Bangladeshi','Indonesian','Persian','Seafood','Sushi','Japanese','Caribbean',\n",
    "              'Arabic','Malaysian','Tibetan','Taiwanese','Afghani','Singaporean','Mongolian','CentralAsian',\n",
    "              'Filipino','MinorityChinese','Uzbek','Azerbaijani','Fujian','Yunnan','Xinjiang','Burmese','Turkish'],\n",
    "    'Mediterranean': ['Mediterranean','Greek','Lebanese','Moroccan','Israeli','Tunisian','Egyptian'],\n",
    "    'Italian': ['Italian','Pizza'],\n",
    "    'French': ['French'],\n",
    "    'EasternEuropean': ['EasternEuropean','Spanish','Portuguese','Mexican','Latin','Belgian','Dutch'],\n",
    "    'CentralAndWesternEuropean': ['European','CentralEuropean','American','German','Czech','Steakhouse',\n",
    "                        'Barbecue','Grill','British','Irish','Swiss','Danish','Scottish','CentralAmerican',\n",
    "                        'Slovenian','Croatian','Romanian','Albanian','Welsh','Polish','Scandinavian','Swedish','Balti','Norwegian','Austrian','Hungarian',\n",
    "                       'Russian','Ukrainian','Georgian','Armenian','Latvian','Caucasian'],\n",
    "    'Other': ['Halal','Soups','Delicatessen','SouthAmerican','Diner','Argentinean','African','Brazilian',\n",
    "              'Peruvian','Kosher','Ethiopian','Venezuelan','Jamaican','SriLankan','Australian','Cuban',\n",
    "              'Hawaiian','Colombian','Cambodian','Cajun&Creole','Southwestern','Chilean','NewZealand','Canadian',\n",
    "              'Ecuadorean','NativeAmerican','Polynesian','Salvadoran']\n",
    "}"
   ]
  },
  {
   "cell_type": "code",
   "execution_count": 17,
   "metadata": {},
   "outputs": [],
   "source": [
    "#Функция для поиска нового значения кухни\n",
    "def change_cuisine(x):\n",
    "    for key in dict_Cuisine.keys():\n",
    "        if x in dict_Cuisine[key]:\n",
    "            return key\n",
    "    pass\n",
    "#Новый список кухонь\n",
    "df['Cuisine'] = df['Cuisine'].apply(lambda x: list(set([change_cuisine(i) for i in x])) if type(x) == list else np.nan)"
   ]
  },
  {
   "cell_type": "markdown",
   "metadata": {},
   "source": [
    "#### <span style='color:Red'> *Убедимся, что мы правильно все сделали и посмотрим на новое распределение.* </span>"
   ]
  },
  {
   "cell_type": "code",
   "execution_count": 18,
   "metadata": {},
   "outputs": [
    {
     "data": {
      "text/html": [
       "<div>\n",
       "<style scoped>\n",
       "    .dataframe tbody tr th:only-of-type {\n",
       "        vertical-align: middle;\n",
       "    }\n",
       "\n",
       "    .dataframe tbody tr th {\n",
       "        vertical-align: top;\n",
       "    }\n",
       "\n",
       "    .dataframe thead th {\n",
       "        text-align: right;\n",
       "    }\n",
       "</style>\n",
       "<table border=\"1\" class=\"dataframe\">\n",
       "  <thead>\n",
       "    <tr style=\"text-align: right;\">\n",
       "      <th></th>\n",
       "      <th>Number</th>\n",
       "    </tr>\n",
       "    <tr>\n",
       "      <th>Name</th>\n",
       "      <th></th>\n",
       "    </tr>\n",
       "  </thead>\n",
       "  <tbody>\n",
       "    <tr>\n",
       "      <th>CentralAndWesternEuropean</th>\n",
       "      <td>13700</td>\n",
       "    </tr>\n",
       "    <tr>\n",
       "      <th>Vegan</th>\n",
       "      <td>11284</td>\n",
       "    </tr>\n",
       "    <tr>\n",
       "      <th>Asian</th>\n",
       "      <td>7481</td>\n",
       "    </tr>\n",
       "    <tr>\n",
       "      <th>Italian</th>\n",
       "      <td>6637</td>\n",
       "    </tr>\n",
       "    <tr>\n",
       "      <th>Mediterranean</th>\n",
       "      <td>6591</td>\n",
       "    </tr>\n",
       "    <tr>\n",
       "      <th>Bar</th>\n",
       "      <td>6301</td>\n",
       "    </tr>\n",
       "    <tr>\n",
       "      <th>EasternEuropean</th>\n",
       "      <td>5408</td>\n",
       "    </tr>\n",
       "    <tr>\n",
       "      <th>GlutenFree</th>\n",
       "      <td>4570</td>\n",
       "    </tr>\n",
       "    <tr>\n",
       "      <th>French</th>\n",
       "      <td>3190</td>\n",
       "    </tr>\n",
       "    <tr>\n",
       "      <th>Other</th>\n",
       "      <td>2602</td>\n",
       "    </tr>\n",
       "    <tr>\n",
       "      <th>International</th>\n",
       "      <td>2506</td>\n",
       "    </tr>\n",
       "    <tr>\n",
       "      <th>FastFood</th>\n",
       "      <td>1901</td>\n",
       "    </tr>\n",
       "  </tbody>\n",
       "</table>\n",
       "</div>"
      ],
      "text/plain": [
       "                           Number\n",
       "Name                             \n",
       "CentralAndWesternEuropean   13700\n",
       "Vegan                       11284\n",
       "Asian                        7481\n",
       "Italian                      6637\n",
       "Mediterranean                6591\n",
       "Bar                          6301\n",
       "EasternEuropean              5408\n",
       "GlutenFree                   4570\n",
       "French                       3190\n",
       "Other                        2602\n",
       "International                2506\n",
       "FastFood                     1901"
      ]
     },
     "execution_count": 18,
     "metadata": {},
     "output_type": "execute_result"
    }
   ],
   "source": [
    "#Создаем Counter для получения распределения ресторанов по кухням\n",
    "Mas_Cuisine = Counter()\n",
    "#Заполнение Counter\n",
    "df['Cuisine'].apply(get_Cuisine)\n",
    "#Создание DataFrame из Counter\n",
    "df_Cuisine = pd.DataFrame(list(Mas_Cuisine.most_common()),columns=['Name','Number']).set_index('Name')\n",
    "df_Cuisine"
   ]
  },
  {
   "cell_type": "code",
   "execution_count": 19,
   "metadata": {},
   "outputs": [],
   "source": [
    "#Правим количество кухонь\n",
    "df['N new Cuisine'] = df['Cuisine'].apply(lambda x: len(x) if type(x) == list else np.nan)"
   ]
  },
  {
   "cell_type": "code",
   "execution_count": 20,
   "metadata": {},
   "outputs": [
    {
     "data": {
      "text/html": [
       "<div>\n",
       "<style scoped>\n",
       "    .dataframe tbody tr th:only-of-type {\n",
       "        vertical-align: middle;\n",
       "    }\n",
       "\n",
       "    .dataframe tbody tr th {\n",
       "        vertical-align: top;\n",
       "    }\n",
       "\n",
       "    .dataframe thead th {\n",
       "        text-align: right;\n",
       "    }\n",
       "</style>\n",
       "<table border=\"1\" class=\"dataframe\">\n",
       "  <thead>\n",
       "    <tr style=\"text-align: right;\">\n",
       "      <th></th>\n",
       "      <th>N Cuisine</th>\n",
       "      <th>N new Cuisine</th>\n",
       "    </tr>\n",
       "  </thead>\n",
       "  <tbody>\n",
       "    <tr>\n",
       "      <th>N Cuisine</th>\n",
       "      <td>1.000000</td>\n",
       "      <td>0.870391</td>\n",
       "    </tr>\n",
       "    <tr>\n",
       "      <th>N new Cuisine</th>\n",
       "      <td>0.870391</td>\n",
       "      <td>1.000000</td>\n",
       "    </tr>\n",
       "  </tbody>\n",
       "</table>\n",
       "</div>"
      ],
      "text/plain": [
       "               N Cuisine  N new Cuisine\n",
       "N Cuisine       1.000000       0.870391\n",
       "N new Cuisine   0.870391       1.000000"
      ]
     },
     "execution_count": 20,
     "metadata": {},
     "output_type": "execute_result"
    },
    {
     "data": {
      "image/png": "[encoded data removed]",
      "text/plain": [
       "<Figure size 432x432 with 3 Axes>"
      ]
     },
     "metadata": {},
     "output_type": "display_data"
    }
   ],
   "source": [
    "#Проверим на корреляцию данные признаки\n",
    "sns.jointplot(x='N Cuisine',y='N new Cuisine',data=df, kind=\"reg\")\n",
    "df[['N Cuisine','N new Cuisine']].corr()"
   ]
  },
  {
   "cell_type": "code",
   "execution_count": 21,
   "metadata": {},
   "outputs": [],
   "source": [
    "#Удаляем старый столбец\n",
    "df.drop(['N Cuisine'],axis=1,inplace=True)\n",
    "df.rename(columns={'N new Cuisine':'N Cuisine'},inplace=True)"
   ]
  },
  {
   "cell_type": "markdown",
   "metadata": {},
   "source": [
    "## б) Признак City"
   ]
  },
  {
   "cell_type": "code",
   "execution_count": 22,
   "metadata": {},
   "outputs": [
    {
     "data": {
      "text/plain": [
       "London        5757\n",
       "Paris         4897\n",
       "Madrid        3108\n",
       "Barcelona     2734\n",
       "Berlin        2155\n",
       "Milan         2133\n",
       "Rome          2078\n",
       "Prague        1443\n",
       "Lisbon        1300\n",
       "Vienna        1166\n",
       "Amsterdam     1086\n",
       "Brussels      1060\n",
       "Hamburg        949\n",
       "Munich         893\n",
       "Lyon           892\n",
       "Stockholm      820\n",
       "Budapest       816\n",
       "Warsaw         727\n",
       "Dublin         673\n",
       "Copenhagen     659\n",
       "Athens         628\n",
       "Edinburgh      596\n",
       "Zurich         538\n",
       "Oporto         513\n",
       "Geneva         481\n",
       "Krakow         443\n",
       "Oslo           385\n",
       "Helsinki       376\n",
       "Bratislava     301\n",
       "Luxembourg     210\n",
       "Ljubljana      183\n",
       "Name: City, dtype: int64"
      ]
     },
     "execution_count": 22,
     "metadata": {},
     "output_type": "execute_result"
    }
   ],
   "source": [
    "#Рассмотрим уникальные значения\n",
    "df['City'].value_counts()"
   ]
  },
  {
   "cell_type": "markdown",
   "metadata": {},
   "source": [
    "#### <span style='color:Red'> *Городов слишком много, поэтому сгруппируем их в новые категории.* </span>"
   ]
  },
  {
   "cell_type": "code",
   "execution_count": 23,
   "metadata": {},
   "outputs": [],
   "source": [
    "#Словарь - столица ли город?\n",
    "dict_Capital_City = {\n",
    "    1: ['London','Paris','Madrid','Berlin','Rome','Prague','Lisbon','Vienna','Amsterdam','Brussels','Stockholm',\n",
    "       'Budapest','Warsaw','Dublin','Copenhagen','Athens','Oslo','Helsinki','Bratislava','Luxembourg','Ljubljana'],\n",
    "    0: ['Barcelona','Milan','Hamburg','Munich','Lyon','Edinburgh','Zurich','Oporto','Geneva','Krakow']\n",
    "}"
   ]
  },
  {
   "cell_type": "code",
   "execution_count": 24,
   "metadata": {},
   "outputs": [],
   "source": [
    "#Словарь - уровень туристического потока в городе (за 2018 год)\n",
    "#Источник: https://en.wikipedia.org/wiki/List_of_cities_by_international_visitors\n",
    "dict_Tourist_Flow = {\n",
    "    'Paris': 17.560,\n",
    "    'Stockholm': 2.604,\n",
    "    'London': 19.233,\n",
    "    'Berlin': 5.959,\n",
    "    'Munich': 4.067,\n",
    "    'Oporto': 0.5,\n",
    "    'Milan': 6.481,\n",
    "    'Bratislava': 0.5,\n",
    "    'Vienna': 6.410,\n",
    "    'Rome': 10.065,\n",
    "    'Barcelona': 6.715,\n",
    "    'Madrid': 5.440,\n",
    "    'Dublin': 5.213,\n",
    "    'Brussels': 3.942,\n",
    "    'Zurich': 2.240,\n",
    "    'Warsaw': 2.850,\n",
    "    'Budapest': 3.823,\n",
    "    'Copenhagen': 3.070,\n",
    "    'Amsterdam': 8.354,\n",
    "    'Lyon': 0.5,\n",
    "    'Hamburg': 1.450,\n",
    "    'Lisbon': 3.539,\n",
    "    'Prague': 8.949,\n",
    "    'Oslo': 0.5,\n",
    "    'Helsinki': 0.5,\n",
    "    'Edinburgh': 1.660,\n",
    "    'Geneva': 1.150,\n",
    "    'Ljubljana': 0.5,\n",
    "    'Athens': 5.728,\n",
    "    'Luxembourg': 0.5,\n",
    "    'Krakow': 2.732\n",
    "}"
   ]
  },
  {
   "cell_type": "code",
   "execution_count": 25,
   "metadata": {},
   "outputs": [],
   "source": [
    "#Функция для поиска нового значения столицы\n",
    "def change_capital(x):\n",
    "    if x in dict_Capital_City[1]:\n",
    "        return 1\n",
    "    else:\n",
    "        return 0\n",
    "    pass\n",
    "#Формирование новых признаков\n",
    "df['Tourist Flow'] = df['City'].replace(dict_Tourist_Flow)\n",
    "df['City is Capital'] = df['City'].apply(lambda x: change_capital(x))"
   ]
  },
  {
   "cell_type": "markdown",
   "metadata": {},
   "source": [
    "#### <span style='color:Red'> *Признак City пока не удаляется, он пригодится для дальенйшей обработки.* </span>"
   ]
  },
  {
   "cell_type": "markdown",
   "metadata": {},
   "source": [
    "# 4. Обработка пропущенных значений"
   ]
  },
  {
   "cell_type": "markdown",
   "metadata": {},
   "source": [
    "## а) Признак N Review"
   ]
  },
  {
   "cell_type": "markdown",
   "metadata": {},
   "source": [
    "#### <span style='color:Red'> *Рассмотрим признак N Review. Посмотрим как распределяются пропуски в зависимости от города, количества кухонь.* </span>"
   ]
  },
  {
   "cell_type": "code",
   "execution_count": 26,
   "metadata": {},
   "outputs": [
    {
     "name": "stdout",
     "output_type": "stream",
     "text": [
      "           number na         mean  median\n",
      "N Cuisine                                \n",
      "1.0            823.0    37.524521    16.0\n",
      "2.0            225.0   111.592331    52.0\n",
      "3.0             94.0   214.595223   103.5\n",
      "4.0             38.0   283.680030   151.0\n",
      "5.0              6.0   389.088146   227.0\n",
      "6.0              0.0   520.279343   323.5\n",
      "7.0              0.0   651.887324   402.0\n",
      "8.0              0.0  1767.500000  1118.0\n",
      "9.0              0.0    90.000000    90.0\n",
      "10.0             0.0  1480.000000  1480.0\n",
      "            number na        mean  median\n",
      "City                                     \n",
      "Amsterdam        50.0  146.630309    47.0\n",
      "Athens           39.0   98.538200    20.0\n",
      "Barcelona       187.0  132.534747    34.0\n",
      "Berlin          204.0   66.522809    16.0\n",
      "Bratislava       43.0   53.089147    10.0\n",
      "Brussels         72.0   89.090081    28.0\n",
      "Budapest         67.0  159.106809    24.0\n",
      "Copenhagen       36.0   90.686998    35.0\n",
      "Dublin           34.0  155.654147    44.0\n",
      "Edinburgh        17.0  232.112263    73.0\n",
      "Geneva           35.0   62.316143    31.0\n",
      "Hamburg          76.0   46.478809    16.0\n",
      "Helsinki         24.0   60.375000    20.0\n",
      "Krakow           28.0  120.566265    28.0\n",
      "Lisbon           85.0  126.506173    31.0\n",
      "Ljubljana        15.0   75.273810    18.5\n",
      "London          349.0  137.969490    38.0\n",
      "Luxembourg       13.0   82.152284    34.0\n",
      "Lyon             41.0   85.955347    31.0\n",
      "Madrid          193.0  100.053173    27.0\n",
      "Milan           103.0  173.712808    50.0\n",
      "Munich           65.0   81.281401    29.0\n",
      "Oporto           35.0  135.939331    39.5\n",
      "Oslo             19.0   94.931694    28.0\n",
      "Paris           224.0  120.146373    46.0\n",
      "Prague          161.0  124.028861    20.0\n",
      "Rome             59.0  289.243685   117.0\n",
      "Stockholm        62.0   77.935356    19.0\n",
      "Vienna           99.0   83.792877    22.0\n",
      "Warsaw           75.0   64.676380    17.0\n",
      "Zurich           33.0   77.558416    32.0\n"
     ]
    }
   ],
   "source": [
    "#Распределение пропусков N Review по N Cuisine, Rating, City\n",
    "get_isna('N Review', ['N Cuisine', 'City'], df)"
   ]
  },
  {
   "cell_type": "code",
   "execution_count": 27,
   "metadata": {},
   "outputs": [
    {
     "data": {
      "text/html": [
       "<div>\n",
       "<style scoped>\n",
       "    .dataframe tbody tr th:only-of-type {\n",
       "        vertical-align: middle;\n",
       "    }\n",
       "\n",
       "    .dataframe tbody tr th {\n",
       "        vertical-align: top;\n",
       "    }\n",
       "\n",
       "    .dataframe thead th {\n",
       "        text-align: right;\n",
       "    }\n",
       "</style>\n",
       "<table border=\"1\" class=\"dataframe\">\n",
       "  <thead>\n",
       "    <tr style=\"text-align: right;\">\n",
       "      <th></th>\n",
       "      <th>mean</th>\n",
       "      <th>median</th>\n",
       "    </tr>\n",
       "    <tr>\n",
       "      <th>City</th>\n",
       "      <th></th>\n",
       "      <th></th>\n",
       "    </tr>\n",
       "  </thead>\n",
       "  <tbody>\n",
       "    <tr>\n",
       "      <th>Amsterdam</th>\n",
       "      <td>121.556114</td>\n",
       "      <td>38.0</td>\n",
       "    </tr>\n",
       "    <tr>\n",
       "      <th>Athens</th>\n",
       "      <td>86.395238</td>\n",
       "      <td>24.0</td>\n",
       "    </tr>\n",
       "    <tr>\n",
       "      <th>Barcelona</th>\n",
       "      <td>76.360584</td>\n",
       "      <td>32.0</td>\n",
       "    </tr>\n",
       "    <tr>\n",
       "      <th>Berlin</th>\n",
       "      <td>70.251113</td>\n",
       "      <td>22.0</td>\n",
       "    </tr>\n",
       "    <tr>\n",
       "      <th>Bratislava</th>\n",
       "      <td>48.829932</td>\n",
       "      <td>13.0</td>\n",
       "    </tr>\n",
       "    <tr>\n",
       "      <th>Brussels</th>\n",
       "      <td>78.182432</td>\n",
       "      <td>33.0</td>\n",
       "    </tr>\n",
       "    <tr>\n",
       "      <th>Budapest</th>\n",
       "      <td>98.759494</td>\n",
       "      <td>24.0</td>\n",
       "    </tr>\n",
       "    <tr>\n",
       "      <th>Copenhagen</th>\n",
       "      <td>101.480861</td>\n",
       "      <td>51.5</td>\n",
       "    </tr>\n",
       "    <tr>\n",
       "      <th>Dublin</th>\n",
       "      <td>101.017588</td>\n",
       "      <td>37.0</td>\n",
       "    </tr>\n",
       "    <tr>\n",
       "      <th>Edinburgh</th>\n",
       "      <td>189.965909</td>\n",
       "      <td>51.0</td>\n",
       "    </tr>\n",
       "    <tr>\n",
       "      <th>Geneva</th>\n",
       "      <td>52.926829</td>\n",
       "      <td>33.0</td>\n",
       "    </tr>\n",
       "    <tr>\n",
       "      <th>Hamburg</th>\n",
       "      <td>54.769063</td>\n",
       "      <td>27.0</td>\n",
       "    </tr>\n",
       "    <tr>\n",
       "      <th>Helsinki</th>\n",
       "      <td>58.747967</td>\n",
       "      <td>23.5</td>\n",
       "    </tr>\n",
       "    <tr>\n",
       "      <th>Krakow</th>\n",
       "      <td>91.257692</td>\n",
       "      <td>30.5</td>\n",
       "    </tr>\n",
       "    <tr>\n",
       "      <th>Lisbon</th>\n",
       "      <td>98.457507</td>\n",
       "      <td>35.0</td>\n",
       "    </tr>\n",
       "    <tr>\n",
       "      <th>Ljubljana</th>\n",
       "      <td>51.539130</td>\n",
       "      <td>18.0</td>\n",
       "    </tr>\n",
       "    <tr>\n",
       "      <th>London</th>\n",
       "      <td>125.000000</td>\n",
       "      <td>39.0</td>\n",
       "    </tr>\n",
       "    <tr>\n",
       "      <th>Luxembourg</th>\n",
       "      <td>67.082707</td>\n",
       "      <td>35.0</td>\n",
       "    </tr>\n",
       "    <tr>\n",
       "      <th>Lyon</th>\n",
       "      <td>111.933092</td>\n",
       "      <td>51.0</td>\n",
       "    </tr>\n",
       "    <tr>\n",
       "      <th>Madrid</th>\n",
       "      <td>80.017491</td>\n",
       "      <td>34.0</td>\n",
       "    </tr>\n",
       "    <tr>\n",
       "      <th>Milan</th>\n",
       "      <td>144.606838</td>\n",
       "      <td>62.5</td>\n",
       "    </tr>\n",
       "    <tr>\n",
       "      <th>Munich</th>\n",
       "      <td>89.384462</td>\n",
       "      <td>39.0</td>\n",
       "    </tr>\n",
       "    <tr>\n",
       "      <th>Oporto</th>\n",
       "      <td>122.242647</td>\n",
       "      <td>41.5</td>\n",
       "    </tr>\n",
       "    <tr>\n",
       "      <th>Oslo</th>\n",
       "      <td>87.187755</td>\n",
       "      <td>30.0</td>\n",
       "    </tr>\n",
       "    <tr>\n",
       "      <th>Paris</th>\n",
       "      <td>120.026767</td>\n",
       "      <td>60.0</td>\n",
       "    </tr>\n",
       "    <tr>\n",
       "      <th>Prague</th>\n",
       "      <td>95.235931</td>\n",
       "      <td>21.5</td>\n",
       "    </tr>\n",
       "    <tr>\n",
       "      <th>Rome</th>\n",
       "      <td>225.142387</td>\n",
       "      <td>89.0</td>\n",
       "    </tr>\n",
       "    <tr>\n",
       "      <th>Stockholm</th>\n",
       "      <td>75.693305</td>\n",
       "      <td>28.0</td>\n",
       "    </tr>\n",
       "    <tr>\n",
       "      <th>Vienna</th>\n",
       "      <td>85.404899</td>\n",
       "      <td>28.0</td>\n",
       "    </tr>\n",
       "    <tr>\n",
       "      <th>Warsaw</th>\n",
       "      <td>56.807692</td>\n",
       "      <td>20.5</td>\n",
       "    </tr>\n",
       "    <tr>\n",
       "      <th>Zurich</th>\n",
       "      <td>84.149837</td>\n",
       "      <td>37.0</td>\n",
       "    </tr>\n",
       "  </tbody>\n",
       "</table>\n",
       "</div>"
      ],
      "text/plain": [
       "                  mean  median\n",
       "City                          \n",
       "Amsterdam   121.556114    38.0\n",
       "Athens       86.395238    24.0\n",
       "Barcelona    76.360584    32.0\n",
       "Berlin       70.251113    22.0\n",
       "Bratislava   48.829932    13.0\n",
       "Brussels     78.182432    33.0\n",
       "Budapest     98.759494    24.0\n",
       "Copenhagen  101.480861    51.5\n",
       "Dublin      101.017588    37.0\n",
       "Edinburgh   189.965909    51.0\n",
       "Geneva       52.926829    33.0\n",
       "Hamburg      54.769063    27.0\n",
       "Helsinki     58.747967    23.5\n",
       "Krakow       91.257692    30.5\n",
       "Lisbon       98.457507    35.0\n",
       "Ljubljana    51.539130    18.0\n",
       "London      125.000000    39.0\n",
       "Luxembourg   67.082707    35.0\n",
       "Lyon        111.933092    51.0\n",
       "Madrid       80.017491    34.0\n",
       "Milan       144.606838    62.5\n",
       "Munich       89.384462    39.0\n",
       "Oporto      122.242647    41.5\n",
       "Oslo         87.187755    30.0\n",
       "Paris       120.026767    60.0\n",
       "Prague       95.235931    21.5\n",
       "Rome        225.142387    89.0\n",
       "Stockholm    75.693305    28.0\n",
       "Vienna       85.404899    28.0\n",
       "Warsaw       56.807692    20.5\n",
       "Zurich       84.149837    37.0"
      ]
     },
     "execution_count": 27,
     "metadata": {},
     "output_type": "execute_result"
    }
   ],
   "source": [
    "#Отсекаем данные по N Cuisine и вычисляем медиану и среднее по признаку N Review для групп City\n",
    "df_City_group = df[df['N Cuisine'] <= 3].groupby('City')['N Review'].agg(['mean', 'median'])\n",
    "df_City_group"
   ]
  },
  {
   "cell_type": "code",
   "execution_count": 28,
   "metadata": {},
   "outputs": [],
   "source": [
    "#Заменяем пропуски на медианное значение\n",
    "df.loc[df['N Review'].isna(), 'N Review'] = df[df['N Review'].isna()].apply(lambda x: df_City_group.loc[x['City'],'median'],axis=1)"
   ]
  },
  {
   "cell_type": "markdown",
   "metadata": {},
   "source": [
    "## б) Признак Price"
   ]
  },
  {
   "cell_type": "code",
   "execution_count": 29,
   "metadata": {},
   "outputs": [
    {
     "name": "stdout",
     "output_type": "stream",
     "text": [
      "           number na      mean  median\n",
      "N Cuisine                             \n",
      "1.0           3525.0  2.056051     2.5\n",
      "2.0            764.0  2.181799     2.5\n",
      "3.0            227.0  2.291019     2.5\n",
      "4.0             68.0  2.349280     2.5\n",
      "5.0             16.0  2.431193     2.5\n",
      "6.0              3.0  2.531915     2.5\n",
      "7.0              0.0  2.711268     2.5\n",
      "8.0              0.0  2.750000     2.5\n",
      "9.0              0.0  2.500000     2.5\n",
      "10.0             0.0  2.500000     2.5\n",
      "            number na      mean  median\n",
      "City                                   \n",
      "Amsterdam       248.0  2.263723     2.5\n",
      "Athens          198.0  2.084884     2.5\n",
      "Barcelona       936.0  2.173804     2.5\n",
      "Berlin         1009.0  2.132199     2.5\n",
      "Bratislava      161.0  2.253571     2.5\n",
      "Brussels        373.0  2.286026     2.5\n",
      "Budapest        257.0  2.065295     2.5\n",
      "Copenhagen      227.0  2.354167     2.5\n",
      "Dublin          167.0  2.159091     2.5\n",
      "Edinburgh       103.0  2.067951     2.5\n",
      "Geneva          156.0  2.573846     2.5\n",
      "Hamburg         517.0  2.298611     2.5\n",
      "Helsinki        131.0  2.248980     2.5\n",
      "Krakow          139.0  1.976974     2.5\n",
      "Lisbon          440.0  2.091860     2.5\n",
      "Ljubljana        55.0  2.171875     2.5\n",
      "London         1610.0  2.206655     2.5\n",
      "Luxembourg       62.0  2.479730     2.5\n",
      "Lyon            421.0  2.331210     2.5\n",
      "Madrid         1370.0  2.274741     2.5\n",
      "Milan           851.0  2.108034     2.5\n",
      "Munich          329.0  2.367021     2.5\n",
      "Oporto          158.0  2.022535     2.5\n",
      "Oslo            120.0  2.415094     2.5\n",
      "Paris          1579.0  2.345841     2.5\n",
      "Prague          555.0  2.097973     2.5\n",
      "Rome            427.0  2.085706     2.5\n",
      "Stockholm       380.0  2.414773     2.5\n",
      "Vienna          454.0  2.280899     2.5\n",
      "Warsaw          289.0  2.215753     2.5\n",
      "Zurich          164.0  2.447861     2.5\n"
     ]
    }
   ],
   "source": [
    "#Распределение пропусков Price по City, N Cuisine\n",
    "get_isna('Price', ['N Cuisine', 'City'], df)"
   ]
  },
  {
   "cell_type": "markdown",
   "metadata": {},
   "source": [
    "#### <span style='color:Red'> *Все медианы принимают значения 2.5.* </span>"
   ]
  },
  {
   "cell_type": "code",
   "execution_count": 30,
   "metadata": {},
   "outputs": [],
   "source": [
    "#Замена пропущенных значений\n",
    "df['Price'].fillna(2.5, inplace=True)"
   ]
  },
  {
   "cell_type": "markdown",
   "metadata": {},
   "source": [
    "# 5. Обработка выбросов"
   ]
  },
  {
   "cell_type": "code",
   "execution_count": 31,
   "metadata": {},
   "outputs": [
    {
     "data": {
      "text/plain": [
       "Index(['Ranking', 'N Review', 'N Cuisine'], dtype='object')"
      ]
     },
     "execution_count": 31,
     "metadata": {},
     "output_type": "execute_result"
    }
   ],
   "source": [
    "col_num = df.select_dtypes(include=['float64', 'int64']).columns\n",
    "#Удаляем столбец с Rating\n",
    "col_num = col_num.drop(['Rating','Tourist Flow','City is Capital','Price'])\n",
    "col_num"
   ]
  },
  {
   "cell_type": "code",
   "execution_count": 32,
   "metadata": {},
   "outputs": [
    {
     "name": "stdout",
     "output_type": "stream",
     "text": [
      "НОВАЯ ИТЕРАЦИЯ.\n",
      "Количество выбросов для параметра Ranking: 2450.\n",
      "Количество выбросов для параметра N Review: 4526.\n",
      "Количество выбросов для параметра N Cuisine: 8528.\n",
      "КОЛИЧЕСТВО ВЫБРОСОВ НА ИТЕРАЦИИ: 15504.\n",
      "\n",
      "НОВАЯ ИТЕРАЦИЯ.\n",
      "Количество выбросов для параметра Ranking: 779.\n",
      "Количество выбросов для параметра N Review: 1063.\n",
      "Количество выбросов для параметра N Cuisine: 0.\n",
      "КОЛИЧЕСТВО ВЫБРОСОВ НА ИТЕРАЦИИ: 1842.\n",
      "\n",
      "НОВАЯ ИТЕРАЦИЯ.\n",
      "Количество выбросов для параметра Ranking: 266.\n",
      "Количество выбросов для параметра N Review: 648.\n",
      "Количество выбросов для параметра N Cuisine: 0.\n",
      "КОЛИЧЕСТВО ВЫБРОСОВ НА ИТЕРАЦИИ: 914.\n",
      "\n",
      "НОВАЯ ИТЕРАЦИЯ.\n",
      "Количество выбросов для параметра Ranking: 97.\n",
      "Количество выбросов для параметра N Review: 343.\n",
      "Количество выбросов для параметра N Cuisine: 0.\n",
      "КОЛИЧЕСТВО ВЫБРОСОВ НА ИТЕРАЦИИ: 440.\n",
      "\n",
      "НОВАЯ ИТЕРАЦИЯ.\n",
      "Количество выбросов для параметра Ranking: 23.\n",
      "Количество выбросов для параметра N Review: 272.\n",
      "Количество выбросов для параметра N Cuisine: 0.\n",
      "КОЛИЧЕСТВО ВЫБРОСОВ НА ИТЕРАЦИИ: 295.\n",
      "\n",
      "НОВАЯ ИТЕРАЦИЯ.\n",
      "Количество выбросов для параметра Ranking: 0.\n",
      "Количество выбросов для параметра N Review: 100.\n",
      "Количество выбросов для параметра N Cuisine: 0.\n",
      "КОЛИЧЕСТВО ВЫБРОСОВ НА ИТЕРАЦИИ: 100.\n",
      "\n",
      "НОВАЯ ИТЕРАЦИЯ.\n",
      "Количество выбросов для параметра Ranking: 0.\n",
      "Количество выбросов для параметра N Review: 99.\n",
      "Количество выбросов для параметра N Cuisine: 0.\n",
      "КОЛИЧЕСТВО ВЫБРОСОВ НА ИТЕРАЦИИ: 99.\n",
      "\n",
      "НОВАЯ ИТЕРАЦИЯ.\n",
      "Количество выбросов для параметра Ranking: 0.\n",
      "Количество выбросов для параметра N Review: 77.\n",
      "Количество выбросов для параметра N Cuisine: 0.\n",
      "КОЛИЧЕСТВО ВЫБРОСОВ НА ИТЕРАЦИИ: 77.\n",
      "\n",
      "НОВАЯ ИТЕРАЦИЯ.\n",
      "Количество выбросов для параметра Ranking: 0.\n",
      "Количество выбросов для параметра N Review: 0.\n",
      "Количество выбросов для параметра N Cuisine: 0.\n",
      "КОЛИЧЕСТВО ВЫБРОСОВ НА ИТЕРАЦИИ: 0.\n",
      "\n"
     ]
    }
   ],
   "source": [
    "#Удаление выбросов\n",
    "dL = -1\n",
    "while dL != 0:\n",
    "    print('НОВАЯ ИТЕРАЦИЯ.')\n",
    "    dL = 0\n",
    "    for col in col_num:\n",
    "        df, dl = drop_out(col,df)\n",
    "        dL += dl\n",
    "    print('КОЛИЧЕСТВО ВЫБРОСОВ НА ИТЕРАЦИИ: {}.'.format(dL))\n",
    "    print()"
   ]
  },
  {
   "cell_type": "markdown",
   "metadata": {},
   "source": [
    "# 6. Формирование новых признаков"
   ]
  },
  {
   "cell_type": "markdown",
   "metadata": {},
   "source": [
    "## а) Признак Cuisine"
   ]
  },
  {
   "cell_type": "code",
   "execution_count": 33,
   "metadata": {},
   "outputs": [],
   "source": [
    "#Формирование Dummy признаков по Cuisine\n",
    "length = len(df_Cuisine.index)\n",
    "cols = list(df_Cuisine.index)\n",
    "#Формирование новой функции для наполнение нового DataFrame\n",
    "def set_Cuisine(X):\n",
    "    df_sub = pd.DataFrame([[0] * length], columns=cols)\n",
    "    for x in X:\n",
    "        df_sub.loc[0,x] = 1\n",
    "    return df_sub.iloc[0,:]\n",
    "#Формирование нового DataFrame\n",
    "df_new = df['Cuisine'].apply(set_Cuisine)"
   ]
  },
  {
   "cell_type": "code",
   "execution_count": 34,
   "metadata": {},
   "outputs": [],
   "source": [
    "#Объединение DataFrame'ов\n",
    "df = pd.concat([df,df_new],axis=1)"
   ]
  },
  {
   "cell_type": "code",
   "execution_count": 35,
   "metadata": {},
   "outputs": [],
   "source": [
    "#Удаление старого признака\n",
    "df.drop(['City','Cuisine'], axis=1, inplace=True)"
   ]
  },
  {
   "cell_type": "markdown",
   "metadata": {},
   "source": [
    "## б) Признак Date"
   ]
  },
  {
   "cell_type": "code",
   "execution_count": 36,
   "metadata": {},
   "outputs": [],
   "source": [
    "#Создание нового признак (Unix-Time)\n",
    "df['Interval Date Review'] = df['Second Date Review'].apply(lambda x: time.mktime(x.timetuple()) if str(x) != 'NaT' else x) - df['First Date Review'].apply(lambda x: time.mktime(x.timetuple()) if str(x) != 'NaT' else x)\n",
    "df.drop(['Second Date Review','First Date Review'], axis=1, inplace=True)"
   ]
  },
  {
   "cell_type": "code",
   "execution_count": 37,
   "metadata": {},
   "outputs": [],
   "source": [
    "#Пропуски заменяем средним\n",
    "sub_mean = df['Interval Date Review'].mean()\n",
    "df['Interval Date Review'].fillna(sub_mean,inplace=True)"
   ]
  },
  {
   "cell_type": "markdown",
   "metadata": {},
   "source": [
    "# 7. Предварительный анализ"
   ]
  },
  {
   "cell_type": "code",
   "execution_count": null,
   "metadata": {},
   "outputs": [],
   "source": []
  },
  {
   "cell_type": "markdown",
   "metadata": {},
   "source": [
    "# 8. Машинное обучение"
   ]
  },
  {
   "cell_type": "markdown",
   "metadata": {},
   "source": [
    "## а) Предобработка"
   ]
  },
  {
   "cell_type": "code",
   "execution_count": 38,
   "metadata": {},
   "outputs": [],
   "source": [
    "X = df.drop(['Rating'], axis=1)\n",
    "y = df['Rating']\n",
    "#Разбиение на тестовую и обучающую выборки\n",
    "X_train, X_test, y_train, y_test = train_test_split(X, y, test_size=0.25)"
   ]
  },
  {
   "cell_type": "markdown",
   "metadata": {},
   "source": [
    "## б) Обучение"
   ]
  },
  {
   "cell_type": "code",
   "execution_count": 39,
   "metadata": {},
   "outputs": [],
   "source": [
    "#Создаём модель\n",
    "regr = RandomForestRegressor(n_estimators=100)\n",
    "# Обучаем модель\n",
    "regr.fit(X_train, y_train)\n",
    "#Предсказываем\n",
    "y_pred = regr.predict(X_test)"
   ]
  },
  {
   "cell_type": "code",
   "execution_count": 40,
   "metadata": {},
   "outputs": [
    {
     "name": "stdout",
     "output_type": "stream",
     "text": [
      "MAE: 0.2407611421956396\n"
     ]
    }
   ],
   "source": [
    "#Метрика\n",
    "print('MAE:', metrics.mean_absolute_error(y_test, y_pred))"
   ]
  },
  {
   "cell_type": "code",
   "execution_count": 41,
   "metadata": {},
   "outputs": [],
   "source": [
    "#### <span style='color:Red'> *.* </span>"
   ]
  },
  {
   "cell_type": "code",
   "execution_count": null,
   "metadata": {},
   "outputs": [],
   "source": []
  }
 ],
 "metadata": {
  "kernelspec": {
   "display_name": "Python 3",
   "language": "python",
   "name": "python3"
  },
  "language_info": {
   "codemirror_mode": {
    "name": "ipython",
    "version": 3
   },
   "file_extension": ".py",
   "mimetype": "text/x-python",
   "name": "python",
   "nbconvert_exporter": "python",
   "pygments_lexer": "ipython3",
   "version": "3.7.6"
  }
 },
 "nbformat": 4,
 "nbformat_minor": 4
}
